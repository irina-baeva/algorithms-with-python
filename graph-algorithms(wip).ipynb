{
 "cells": [
  {
   "cell_type": "code",
   "execution_count": 1,
   "metadata": {},
   "outputs": [],
   "source": [
    "import matplotlib.pyplot as plt\n",
    "import numpy as np\n",
    "from binarytree import tree, bst, heap\n",
    "import ipycytoscape"
   ]
  },
  {
   "cell_type": "code",
   "execution_count": 2,
   "metadata": {},
   "outputs": [
    {
     "ename": "SyntaxError",
     "evalue": "invalid syntax (<ipython-input-2-1d723b6cb186>, line 1)",
     "output_type": "error",
     "traceback": [
      "\u001b[0;36m  File \u001b[0;32m\"<ipython-input-2-1d723b6cb186>\"\u001b[0;36m, line \u001b[0;32m1\u001b[0m\n\u001b[0;31m    Graph traversal\u001b[0m\n\u001b[0m          ^\u001b[0m\n\u001b[0;31mSyntaxError\u001b[0m\u001b[0;31m:\u001b[0m invalid syntax\n"
     ]
    }
   ],
   "source": [
    "Graph traversal\n",
    "\n",
    "* DFS - depth first search - follow one path till the end. We store seen nodes in stack\n",
    "\n",
    "<div><img src=\"attachment:2021-02-28_21-23-38.png\" width=400/></div>\n",
    "\n",
    "_Picture 15._ <a src=\"https://www.hackerearth.com/practice/algorithms/graphs/depth-first-search/tutorial/\">Source</a> \n",
    "\n",
    "Visual representation: https://www.cs.usfca.edu/~galles/visualization/DFS.html\n",
    "\n",
    "* BFS - breadth first search - check all nodes next to the current node\n",
    "\n",
    "<div><img src=\"attachment:2021-02-28_21-27-45.png\" width=400/></div>\n",
    "\n",
    "_Picture 16._  <a src=\"https://www.hackerearth.com/practice/algorithms/graphs/depth-first-search/tutorial/\">Source</a>  \n",
    "\n",
    "\n",
    "Visual representation: https://www.cs.usfca.edu/~galles/visualization/BFS.html"
   ]
  },
  {
   "cell_type": "code",
   "execution_count": null,
   "metadata": {},
   "outputs": [],
   "source": []
  }
 ],
 "metadata": {
  "kernelspec": {
   "display_name": "Python 3",
   "language": "python",
   "name": "python3"
  },
  "language_info": {
   "codemirror_mode": {
    "name": "ipython",
    "version": 3
   },
   "file_extension": ".py",
   "mimetype": "text/x-python",
   "name": "python",
   "nbconvert_exporter": "python",
   "pygments_lexer": "ipython3",
   "version": "3.8.1"
  },
  "toc": {
   "base_numbering": 1,
   "nav_menu": {},
   "number_sections": true,
   "sideBar": true,
   "skip_h1_title": false,
   "title_cell": "Table of Contents",
   "title_sidebar": "Contents",
   "toc_cell": false,
   "toc_position": {},
   "toc_section_display": true,
   "toc_window_display": false
  }
 },
 "nbformat": 4,
 "nbformat_minor": 4
}
